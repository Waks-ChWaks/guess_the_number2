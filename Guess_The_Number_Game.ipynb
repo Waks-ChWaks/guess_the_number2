{
 "cells": [
  {
   "cell_type": "markdown",
   "id": "46cf5fde-223e-4c9e-ad8b-ad459cf0ea58",
   "metadata": {},
   "source": [
    "# === Guess The Number Game ===\n",
    "\n",
    "- Conditional Statements/Control Flow/Logical Statements\n",
    "- For Loop\n",
    "- Functions"
   ]
  },
  {
   "cell_type": "markdown",
   "id": "7572fa12-bc20-44e2-a2fa-d72fd9f57051",
   "metadata": {},
   "source": [
    "## Conditional Statements "
   ]
  },
  {
   "cell_type": "markdown",
   "id": "21dd90bb-ba4f-4ad0-b58b-ccd68647f51b",
   "metadata": {},
   "source": [
    "Lets state the conditions ;\n",
    "\n",
    "0 - 12 > Child\n",
    "13 - 19 > Teen\n",
    "20 - 35 > Youth or Young Adult\n",
    "36 - 50 > Midddle Aged Adult\n",
    "51 - Above > Elderly or Senior Citizen \n"
   ]
  },
  {
   "cell_type": "code",
   "execution_count": 34,
   "id": "dd61d946-3616-43b5-99a4-4e4d410cb034",
   "metadata": {},
   "outputs": [],
   "source": [
    "age = 1000"
   ]
  },
  {
   "cell_type": "code",
   "execution_count": 35,
   "id": "58d0a835-0abd-4ebf-bf41-f98f9c6585b9",
   "metadata": {},
   "outputs": [
    {
     "name": "stdout",
     "output_type": "stream",
     "text": [
      "Elderly or Senior Citizen\n"
     ]
    }
   ],
   "source": [
    "if 0 <= age <= 12:\n",
    "    print(\"Child\")\n",
    "elif 13 <= age <= 19:\n",
    "    print(\"Teen\")\n",
    "elif 20 <= age <= 35:\n",
    "    print(\"Youth or Young Adult\")\n",
    "elif 36 <= age <= 50:\n",
    "    print(\"Middle Aged Adult\")\n",
    "else:\n",
    "    print(\"Elderly or Senior Citizen\")"
   ]
  },
  {
   "cell_type": "markdown",
   "id": "d41ba27e-bb05-4002-916e-a6e60f9b9c8a",
   "metadata": {},
   "source": [
    "## For Loops"
   ]
  },
  {
   "cell_type": "code",
   "execution_count": null,
   "id": "12d26a72-3680-4fe2-9dea-21929a92c545",
   "metadata": {},
   "outputs": [],
   "source": []
  },
  {
   "cell_type": "code",
   "execution_count": 24,
   "id": "b65aa2d5-1e18-4c74-be53-9e2dec96b418",
   "metadata": {},
   "outputs": [],
   "source": [
    "wish_list = [\n",
    "    \"Job\",\n",
    "    \"Wife\", \n",
    "    \"Kid\", \n",
    "    \"Dolar\", \n",
    "    \"Mansion\",\n",
    "    \"Scholarship\",\n",
    "    \"Cat\", \n",
    "    \"Vacation\",\n",
    "    \"Travel\",\n",
    "    \"Private Jet\", \n",
    "    \"Peace\"\n",
    "]"
   ]
  },
  {
   "cell_type": "code",
   "execution_count": 25,
   "id": "ae3c8517-d48e-43f7-b720-b1e21b3326f3",
   "metadata": {},
   "outputs": [
    {
     "name": "stdout",
     "output_type": "stream",
     "text": [
      "['Job', 'Wife', 'Kid', 'Dolar', 'Mansion', 'Scholarship', 'Cat', 'Vacation', 'Travel', 'Private Jet', 'Peace']\n"
     ]
    }
   ],
   "source": [
    "print(wish_list)\n"
   ]
  },
  {
   "cell_type": "code",
   "execution_count": 26,
   "id": "43d1938b-11de-4996-aa5a-f0c8a9ca1d72",
   "metadata": {},
   "outputs": [
    {
     "name": "stdout",
     "output_type": "stream",
     "text": [
      "Job\n",
      "Scholarship\n",
      "Peace\n"
     ]
    }
   ],
   "source": [
    "print(wish_list[0])\n",
    "print(wish_list[5])\n",
    "print(wish_list[10])"
   ]
  },
  {
   "cell_type": "code",
   "execution_count": 27,
   "id": "c5a8b3c5-8a4a-439f-bb69-5a1a7b5a318e",
   "metadata": {},
   "outputs": [
    {
     "name": "stdout",
     "output_type": "stream",
     "text": [
      "Job\n",
      "Wife\n",
      "Kid\n",
      "Dolar\n",
      "Mansion\n",
      "Scholarship\n",
      "Cat\n",
      "Vacation\n",
      "Travel\n",
      "Private Jet\n",
      "Peace\n"
     ]
    }
   ],
   "source": [
    "for wish in wish_list:\n",
    "    print(wish)"
   ]
  },
  {
   "cell_type": "markdown",
   "id": "1ae3f8a6-26e3-4229-a264-c59b706f5db2",
   "metadata": {},
   "source": [
    "## Functions\n",
    "\n",
    "- View or Print.\n",
    "\n",
    "- Withdraw or Return."
   ]
  },
  {
   "cell_type": "code",
   "execution_count": 40,
   "id": "2f0e35c9-2a90-4970-8792-467bdd96da66",
   "metadata": {},
   "outputs": [
    {
     "name": "stdout",
     "output_type": "stream",
     "text": [
      "Hujambo William, I hope you are enjoying learning Python.\n"
     ]
    }
   ],
   "source": [
    "print(\"Hujambo William, I hope you are enjoying learning Python.\")"
   ]
  },
  {
   "cell_type": "code",
   "execution_count": 84,
   "id": "22ab7ddb-99e6-4a3a-8815-d17140166735",
   "metadata": {},
   "outputs": [
    {
     "name": "stdout",
     "output_type": "stream",
     "text": [
      "Hujambo Maruti, I hope you are enjoying learning Python.\n"
     ]
    }
   ],
   "source": [
    "print(\"Hujambo Maruti, I hope you are enjoying learning Python.\")"
   ]
  },
  {
   "cell_type": "code",
   "execution_count": 93,
   "id": "51cb7428-80e5-4b65-b962-26b6a2fb249a",
   "metadata": {},
   "outputs": [],
   "source": [
    "def greeting(name):\n",
    "    print(\"Hujambo\", name,\",\",  \"I hope you are enjoying learning Python.\")"
   ]
  },
  {
   "cell_type": "code",
   "execution_count": 94,
   "id": "bfefe9b1-da1b-4ccd-aaf3-bd3bdf5eaf84",
   "metadata": {},
   "outputs": [
    {
     "name": "stdout",
     "output_type": "stream",
     "text": [
      "Hujambo Nangendo , I hope you are enjoying learning Python.\n"
     ]
    }
   ],
   "source": [
    "greeting(\"Nangendo\")"
   ]
  },
  {
   "cell_type": "code",
   "execution_count": 107,
   "id": "e39d7d61-ce48-4e22-bcc9-7774c0efe476",
   "metadata": {},
   "outputs": [
    {
     "name": "stdout",
     "output_type": "stream",
     "text": [
      "Hujambo Wakape , I hope you are enjoying learning Python.\n"
     ]
    }
   ],
   "source": [
    "greeting(\"Wakape\")"
   ]
  },
  {
   "cell_type": "code",
   "execution_count": 108,
   "id": "2625cf2a-2ef4-4ab4-8fac-113324029aa1",
   "metadata": {},
   "outputs": [],
   "source": [
    "list_of_names = [\n",
    "    \"Wakape\",\n",
    "    \"Nangendo\",\n",
    "    \"Maruti\",\n",
    "    \"Liam\",\n",
    "    \"Lusweti\",\n",
    "    \"Buyayi\",\n",
    "    \"Wamalwa\"\n",
    "]\n",
    "    "
   ]
  },
  {
   "cell_type": "code",
   "execution_count": 109,
   "id": "64b50a81-3d46-4100-822d-cafca2ed6c47",
   "metadata": {},
   "outputs": [
    {
     "name": "stdout",
     "output_type": "stream",
     "text": [
      "Hujambo Wakape , I hope you are enjoying learning Python.\n",
      "Hujambo Nangendo , I hope you are enjoying learning Python.\n",
      "Hujambo Maruti , I hope you are enjoying learning Python.\n",
      "Hujambo Liam , I hope you are enjoying learning Python.\n",
      "Hujambo Lusweti , I hope you are enjoying learning Python.\n",
      "Hujambo Buyayi , I hope you are enjoying learning Python.\n",
      "Hujambo Wamalwa , I hope you are enjoying learning Python.\n"
     ]
    }
   ],
   "source": [
    "for name in list_of_names:\n",
    "    greeting(name)"
   ]
  },
  {
   "cell_type": "code",
   "execution_count": 113,
   "id": "7f0d7621-d2d4-43fe-8942-41674c25afb2",
   "metadata": {},
   "outputs": [
    {
     "name": "stdout",
     "output_type": "stream",
     "text": [
      "Hujambo Wamalwa , I hope you are enjoying learning Python.\n"
     ]
    }
   ],
   "source": [
    "abc = greeting(name)"
   ]
  },
  {
   "cell_type": "code",
   "execution_count": 114,
   "id": "7cdebf7f-9446-46ed-9b2e-d746d9c5ce59",
   "metadata": {},
   "outputs": [],
   "source": [
    "abc"
   ]
  },
  {
   "cell_type": "code",
   "execution_count": 117,
   "id": "0547146c-4c7b-47f3-9302-376864690d1c",
   "metadata": {},
   "outputs": [],
   "source": [
    "def addition(a,b):\n",
    "    added = a + b\n",
    "    return added"
   ]
  },
  {
   "cell_type": "code",
   "execution_count": 118,
   "id": "80ae39a1-2bed-489a-91a7-77a17f4a7f38",
   "metadata": {},
   "outputs": [],
   "source": [
    "add_numbers = addition(7,8)"
   ]
  },
  {
   "cell_type": "code",
   "execution_count": 119,
   "id": "b74c8803-55b2-4d0c-ab83-34b004f6670f",
   "metadata": {},
   "outputs": [
    {
     "name": "stdout",
     "output_type": "stream",
     "text": [
      "15\n"
     ]
    }
   ],
   "source": [
    "print(add_numbers)"
   ]
  },
  {
   "cell_type": "code",
   "execution_count": null,
   "id": "8b1912cc-b633-4011-a4f0-1ec5d2baccd4",
   "metadata": {},
   "outputs": [],
   "source": [
    " "
   ]
  },
  {
   "cell_type": "markdown",
   "id": "fee5c714-ebe8-4c3a-b655-d74bccc7e9c7",
   "metadata": {},
   "source": [
    "## Let The Games Begin! V-1.0"
   ]
  },
  {
   "cell_type": "code",
   "execution_count": 121,
   "id": "339b80b9-c509-4080-b447-c0927157d756",
   "metadata": {},
   "outputs": [
    {
     "name": "stdout",
     "output_type": "stream",
     "text": [
      "***** Guess The Game *****\n"
     ]
    }
   ],
   "source": [
    "print(\"***** Guess The Game *****\")"
   ]
  },
  {
   "cell_type": "code",
   "execution_count": 122,
   "id": "9e03a9e0-08df-499f-a69d-b8a2b13f1bcf",
   "metadata": {},
   "outputs": [
    {
     "name": "stdout",
     "output_type": "stream",
     "text": [
      "\n",
      "***** Guess The Game *****\n"
     ]
    }
   ],
   "source": [
    "print()\n",
    "print(\"***** Guess The Game *****\")"
   ]
  },
  {
   "cell_type": "code",
   "execution_count": 123,
   "id": "c5a103b1-5015-4e89-a048-96f1452a49a0",
   "metadata": {},
   "outputs": [
    {
     "name": "stdout",
     "output_type": "stream",
     "text": [
      "\n",
      "***** Guess The Game *****\n"
     ]
    }
   ],
   "source": [
    "print(\"\\n***** Guess The Game *****\")"
   ]
  },
  {
   "cell_type": "code",
   "execution_count": 124,
   "id": "35d1fde0-8a8d-48b7-9aee-d7828ae95588",
   "metadata": {},
   "outputs": [],
   "source": [
    "secret_number = 7 # number between 1-10"
   ]
  },
  {
   "cell_type": "code",
   "execution_count": 130,
   "id": "345025f5-83b4-4d92-945c-c49997dc323a",
   "metadata": {},
   "outputs": [],
   "source": [
    "guess = 9"
   ]
  },
  {
   "cell_type": "code",
   "execution_count": 131,
   "id": "d06d8ca2-443e-4b91-b4a2-9dfd2af40dda",
   "metadata": {},
   "outputs": [
    {
     "name": "stdout",
     "output_type": "stream",
     "text": [
      "Oops, too high!!! Guess a lower number.\n"
     ]
    }
   ],
   "source": [
    "if guess == secret_number:\n",
    "    print(\"Congratulations!!!! You Guessed Right!!!\")\n",
    "elif guess > secret_number:\n",
    "    print(\"Oops, too high!!! Guess a lower number.\")\n",
    "else:\n",
    "    print(\"Oops, too low!!! Guess a higher number.\")"
   ]
  },
  {
   "cell_type": "code",
   "execution_count": null,
   "id": "13d2982f-2044-4eac-ab6c-e8d6eb21c752",
   "metadata": {},
   "outputs": [],
   "source": []
  },
  {
   "cell_type": "markdown",
   "id": "c2895808-b2ea-4a8c-b9cb-f0c8705dd06a",
   "metadata": {},
   "source": [
    "### Limitations Of The Above Version Of The Game\n",
    "\n",
    "- Not fun.\n",
    "- Having to manually repeat the number.\n",
    "- The secret number is not so secret."
   ]
  },
  {
   "cell_type": "markdown",
   "id": "89364f34-1216-4731-9268-6defb553ddd1",
   "metadata": {},
   "source": [
    "## Make The Secret number Secret."
   ]
  },
  {
   "cell_type": "markdown",
   "id": "35b26c4f-cdb7-4026-b189-4e59d4dfa9cd",
   "metadata": {},
   "source": [
    "## Let The Games Begin! V-1.1"
   ]
  },
  {
   "cell_type": "code",
   "execution_count": 174,
   "id": "d356fa17-528e-44db-8395-721344920ef0",
   "metadata": {},
   "outputs": [],
   "source": [
    "import random"
   ]
  },
  {
   "cell_type": "code",
   "execution_count": 175,
   "id": "1f47354e-066d-4caf-8846-15a6e19eb2d7",
   "metadata": {},
   "outputs": [],
   "source": [
    "secret_number = random.randint(1, 10)"
   ]
  },
  {
   "cell_type": "code",
   "execution_count": 181,
   "id": "ed412b7b-5334-42b1-9012-2c786667ee1e",
   "metadata": {},
   "outputs": [],
   "source": [
    "guess = 3"
   ]
  },
  {
   "cell_type": "code",
   "execution_count": 184,
   "id": "1ba43b07-5799-47f1-b012-2ebbcb4e5ea7",
   "metadata": {},
   "outputs": [
    {
     "name": "stdout",
     "output_type": "stream",
     "text": [
      "Congratulations!!!! You Guessed Right!!!\n"
     ]
    }
   ],
   "source": [
    "if guess == secret_number:\n",
    "    print(\"Congratulations!!!! You Guessed Right!!!\")\n",
    "elif guess > secret_number:\n",
    "    print(\"Oops, too high!!! Guess a lower number.\")\n",
    "else:\n",
    "    print(\"Oops, too low!!! Guess a higher number.\")"
   ]
  },
  {
   "cell_type": "code",
   "execution_count": null,
   "id": "40c1a744-7164-4991-95ca-bd033ae3b741",
   "metadata": {},
   "outputs": [],
   "source": []
  },
  {
   "cell_type": "markdown",
   "id": "cc82ed9e-e3bd-4cb6-9f48-8f02cd45be90",
   "metadata": {},
   "source": [
    "- Create different functions functions for different sections of the game.\n",
    "- Create 1 function that contains the entire game."
   ]
  },
  {
   "cell_type": "code",
   "execution_count": null,
   "id": "6ddafe40-55fc-4a9d-921b-8aef67e2be39",
   "metadata": {},
   "outputs": [],
   "source": []
  },
  {
   "cell_type": "code",
   "execution_count": 187,
   "id": "26482344-4215-48cc-ad5e-3c8df29af7f0",
   "metadata": {},
   "outputs": [],
   "source": [
    "name = \"Heru\"\n",
    "age = 13\n",
    "country = \"Khamiti\""
   ]
  },
  {
   "cell_type": "code",
   "execution_count": 188,
   "id": "e38d47ce-40b5-454b-bc60-3551c36dab7a",
   "metadata": {},
   "outputs": [
    {
     "name": "stdout",
     "output_type": "stream",
     "text": [
      "Heru\n",
      "13\n",
      "Khamiti\n"
     ]
    }
   ],
   "source": [
    "print(name)\n",
    "print(age)\n",
    "print(country)"
   ]
  },
  {
   "cell_type": "code",
   "execution_count": 189,
   "id": "68271f37-ed78-4417-8916-d60a7e265232",
   "metadata": {},
   "outputs": [
    {
     "name": "stdin",
     "output_type": "stream",
     "text": [
      " Shango\n",
      " 25\n",
      " Kongo\n"
     ]
    }
   ],
   "source": [
    "name = input()\n",
    "age = input ()\n",
    "country = input()"
   ]
  },
  {
   "cell_type": "code",
   "execution_count": 190,
   "id": "0c223f68-2dff-4807-8f57-5eaebbf7ccee",
   "metadata": {},
   "outputs": [
    {
     "name": "stdout",
     "output_type": "stream",
     "text": [
      "Shango\n",
      "25\n",
      "Kongo\n"
     ]
    }
   ],
   "source": [
    "print(name)\n",
    "print(age)\n",
    "print(country)"
   ]
  },
  {
   "cell_type": "code",
   "execution_count": null,
   "id": "13680c03-91b4-4ac2-aa20-f41cbb3f71ed",
   "metadata": {},
   "outputs": [],
   "source": []
  },
  {
   "cell_type": "code",
   "execution_count": null,
   "id": "967d7251-fb9c-4e28-8682-f32b33653eb6",
   "metadata": {},
   "outputs": [],
   "source": []
  },
  {
   "cell_type": "markdown",
   "id": "6de1b77b-5101-4f78-a12e-375d43dde438",
   "metadata": {},
   "source": [
    "## Let The Games Begin! V-1.3"
   ]
  },
  {
   "cell_type": "code",
   "execution_count": null,
   "id": "d6b2396e-1119-4e02-b3ac-6d6b11f34afd",
   "metadata": {},
   "outputs": [],
   "source": []
  },
  {
   "cell_type": "code",
   "execution_count": 197,
   "id": "00782be6-9d47-4d79-8f28-0b1f1a560b1c",
   "metadata": {},
   "outputs": [
    {
     "name": "stdout",
     "output_type": "stream",
     "text": [
      "\n",
      "====== Guess The Number Game ======\n",
      "\n",
      "I'm thinking of a number between 1 - 10.\n",
      "\n",
      "Try to guess the number.\n",
      "\n"
     ]
    },
    {
     "name": "stdin",
     "output_type": "stream",
     "text": [
      " 7\n"
     ]
    },
    {
     "name": "stdout",
     "output_type": "stream",
     "text": [
      "Oops, too low!!! Guess a higher number.\n"
     ]
    }
   ],
   "source": [
    "print(\"\\n====== Guess The Number Game ======\")\n",
    "print(\"\\nI'm thinking of a number between 1 - 10.\")\n",
    "print(\"\\nTry to guess the number.\")\n",
    "\n",
    "secret_number = random.randint(1, 10)\n",
    "\n",
    "print()\n",
    "guess = int(input())\n",
    "\n",
    "if guess == secret_number:\n",
    "    print(\"Congratulations!!!! You Guessed Right!!!\")\n",
    "elif guess > secret_number:\n",
    "    print(\"Oops, too high!!! Guess a lower number.\")\n",
    "else:\n",
    "    print(\"Oops, too low!!! Guess a higher number.\")"
   ]
  },
  {
   "cell_type": "code",
   "execution_count": null,
   "id": "262874c4-5325-4297-80c2-bb6b3fb38bdd",
   "metadata": {},
   "outputs": [],
   "source": []
  },
  {
   "cell_type": "code",
   "execution_count": 198,
   "id": "95db9592-f3f3-4d52-8b5f-9a6bb262b120",
   "metadata": {},
   "outputs": [
    {
     "name": "stdout",
     "output_type": "stream",
     "text": [
      "1\n",
      "2\n",
      "3\n",
      "4\n",
      "5\n",
      "6\n",
      "7\n",
      "8\n",
      "9\n",
      "10\n"
     ]
    }
   ],
   "source": [
    "list_of_num = [1, 2, 3, 4, 5, 6, 7, 8, 9, 10]\n",
    "\n",
    "for number in list_of_num:\n",
    "    print(number)"
   ]
  },
  {
   "cell_type": "code",
   "execution_count": 200,
   "id": "5793f250-10ef-421c-925f-fe281e0588cd",
   "metadata": {},
   "outputs": [
    {
     "name": "stdout",
     "output_type": "stream",
     "text": [
      "1\n",
      "2\n",
      "3\n",
      "4\n",
      "5\n",
      "6\n",
      "7\n",
      "8\n",
      "9\n",
      "10\n",
      "11\n",
      "12\n",
      "13\n",
      "14\n",
      "15\n",
      "16\n",
      "17\n",
      "18\n",
      "19\n",
      "20\n"
     ]
    }
   ],
   "source": [
    "for num in range(1 , 21):\n",
    "    print(num)"
   ]
  },
  {
   "cell_type": "code",
   "execution_count": null,
   "id": "c158860a-5862-4802-998d-053386f857a2",
   "metadata": {},
   "outputs": [],
   "source": []
  },
  {
   "cell_type": "markdown",
   "id": "186e6ce0-ab33-426f-a0d2-bbd8d13e2516",
   "metadata": {},
   "source": [
    "## Let The Games Begin! V-1.4"
   ]
  },
  {
   "cell_type": "code",
   "execution_count": null,
   "id": "36fc0ad5-554e-4d7a-98bd-7e62f3e97c5e",
   "metadata": {},
   "outputs": [],
   "source": []
  },
  {
   "cell_type": "code",
   "execution_count": 202,
   "id": "44b724c3-86a6-47c9-be88-be8d1b52c741",
   "metadata": {},
   "outputs": [
    {
     "name": "stdout",
     "output_type": "stream",
     "text": [
      "\n",
      "====== Guess The Number Game ======\n",
      "\n",
      "I'm thinking of a number between 1 - 10.\n",
      "\n",
      "Try to guess the number.\n",
      "\n"
     ]
    },
    {
     "name": "stdin",
     "output_type": "stream",
     "text": [
      " 4\n"
     ]
    },
    {
     "name": "stdout",
     "output_type": "stream",
     "text": [
      "Oops, too low!!! Guess a higher number.\n",
      "\n"
     ]
    },
    {
     "name": "stdin",
     "output_type": "stream",
     "text": [
      " 3\n"
     ]
    },
    {
     "name": "stdout",
     "output_type": "stream",
     "text": [
      "Oops, too low!!! Guess a higher number.\n",
      "\n"
     ]
    },
    {
     "name": "stdin",
     "output_type": "stream",
     "text": [
      " 8\n"
     ]
    },
    {
     "name": "stdout",
     "output_type": "stream",
     "text": [
      "Oops, too high!!! Guess a lower number.\n",
      "\n"
     ]
    },
    {
     "name": "stdin",
     "output_type": "stream",
     "text": [
      " 7\n"
     ]
    },
    {
     "name": "stdout",
     "output_type": "stream",
     "text": [
      "Oops, too high!!! Guess a lower number.\n",
      "\n"
     ]
    },
    {
     "name": "stdin",
     "output_type": "stream",
     "text": [
      " 6\n"
     ]
    },
    {
     "name": "stdout",
     "output_type": "stream",
     "text": [
      "Congratulations!!!! You Guessed Right!!!\n",
      "\n"
     ]
    },
    {
     "name": "stdin",
     "output_type": "stream",
     "text": [
      " 7\n"
     ]
    },
    {
     "name": "stdout",
     "output_type": "stream",
     "text": [
      "Oops, too high!!! Guess a lower number.\n"
     ]
    }
   ],
   "source": [
    "print(\"\\n====== Guess The Number Game ======\")\n",
    "print(\"\\nI'm thinking of a number between 1 - 10.\")\n",
    "print(\"\\nTry to guess the number.\")\n",
    "\n",
    "secret_number = random.randint(1, 10)\n",
    "\n",
    "for attempt in range(1, 7):\n",
    "\n",
    "    print()\n",
    "    guess = int(input())\n",
    "\n",
    "if guess == secret_number:\n",
    "     print(\"Congratulations!!!! You Guessed Right!!!\") \n",
    "elif guess > secret_number:\n",
    "     print(\"Oops, too high!!! Guess a lower number.\")\n",
    "else:\n",
    "     print(\"Oops, too low!!! Guess a higher number.\")"
   ]
  },
  {
   "cell_type": "code",
   "execution_count": null,
   "id": "f49703d6-35c3-498f-aae7-90076eaaa05c",
   "metadata": {},
   "outputs": [],
   "source": [
    "\n"
   ]
  },
  {
   "cell_type": "markdown",
   "id": "edcdee7d-8bbd-407d-b2ef-350fb288c3c2",
   "metadata": {},
   "source": [
    "## Let The Games Begin! V-1.5"
   ]
  },
  {
   "cell_type": "code",
   "execution_count": null,
   "id": "b7d211d0-1c72-48ae-8cd2-7c57e5460d2a",
   "metadata": {},
   "outputs": [],
   "source": []
  },
  {
   "cell_type": "code",
   "execution_count": 6,
   "id": "439b9526-caa8-48a5-9f23-c100c826093c",
   "metadata": {},
   "outputs": [],
   "source": [
    "import random\n"
   ]
  },
  {
   "cell_type": "code",
   "execution_count": 8,
   "id": "9d24b61e-41b9-4fb2-ab4d-5db4abe84b47",
   "metadata": {},
   "outputs": [
    {
     "name": "stdout",
     "output_type": "stream",
     "text": [
      "\n",
      "====== Guess The Number Game ======\n",
      "\n",
      "I'm thinking of a number between 1 - 10.\n",
      "\n",
      "Try to guess the number.\n",
      "\n"
     ]
    },
    {
     "name": "stdin",
     "output_type": "stream",
     "text": [
      " 3\n"
     ]
    },
    {
     "name": "stdout",
     "output_type": "stream",
     "text": [
      "Oops, too low!!! Guess a higher number.\n",
      "\n"
     ]
    },
    {
     "name": "stdin",
     "output_type": "stream",
     "text": [
      " 2\n"
     ]
    },
    {
     "name": "stdout",
     "output_type": "stream",
     "text": [
      "Oops, too low!!! Guess a higher number.\n",
      "\n"
     ]
    },
    {
     "name": "stdin",
     "output_type": "stream",
     "text": [
      " 4\n"
     ]
    },
    {
     "name": "stdout",
     "output_type": "stream",
     "text": [
      "Oops, too low!!! Guess a higher number.\n",
      "\n"
     ]
    },
    {
     "name": "stdin",
     "output_type": "stream",
     "text": [
      " 6\n"
     ]
    },
    {
     "name": "stdout",
     "output_type": "stream",
     "text": [
      "Oops, too low!!! Guess a higher number.\n",
      "\n"
     ]
    },
    {
     "name": "stdin",
     "output_type": "stream",
     "text": [
      " 8\n"
     ]
    },
    {
     "name": "stdout",
     "output_type": "stream",
     "text": [
      "Oops, too low!!! Guess a higher number.\n",
      "\n"
     ]
    },
    {
     "name": "stdin",
     "output_type": "stream",
     "text": [
      " 9\n"
     ]
    },
    {
     "name": "stdout",
     "output_type": "stream",
     "text": [
      "Congratulations!!!! You Guessed Right!!!\n"
     ]
    }
   ],
   "source": [
    "print(\"\\n====== Guess The Number Game ======\")\n",
    "print(\"\\nI'm thinking of a number between 1 - 10.\")\n",
    "print(\"\\nTry to guess the number.\")\n",
    "\n",
    "secret_number = random.randint(1, 10)\n",
    "\n",
    "for attempt in range(1, 7):\n",
    "\n",
    "    print()\n",
    "    guess = int(input())\n",
    "\n",
    "    if guess == secret_number:\n",
    "        print(\"Congratulations!!!! You Guessed Right!!!\")\n",
    "        break\n",
    "    elif guess > secret_number:\n",
    "        print(\"Oops, too high!!! Guess a lower number.\")\n",
    "    else:\n",
    "        print(\"Oops, too low!!! Guess a higher number.\")"
   ]
  },
  {
   "cell_type": "code",
   "execution_count": null,
   "id": "e457c4ed-817e-4235-9bfc-749e82fdcd0a",
   "metadata": {},
   "outputs": [],
   "source": []
  },
  {
   "cell_type": "code",
   "execution_count": null,
   "id": "3d91fc61-2f5b-4e73-a974-4c7f5e8d3e81",
   "metadata": {},
   "outputs": [],
   "source": []
  },
  {
   "cell_type": "markdown",
   "id": "a1e0d91b-2b55-470f-bb23-5bb92b571e4d",
   "metadata": {},
   "source": [
    "## Let The Games Begin! V-1.6\n",
    "- Creating Number Of Attempts."
   ]
  },
  {
   "cell_type": "code",
   "execution_count": null,
   "id": "ba1eddcb-c2ab-425f-aa1b-c01fe2a51fff",
   "metadata": {},
   "outputs": [],
   "source": []
  },
  {
   "cell_type": "code",
   "execution_count": 9,
   "id": "06f49f7a-d8f9-4e37-a8e7-369d330efddf",
   "metadata": {},
   "outputs": [],
   "source": [
    "import random"
   ]
  },
  {
   "cell_type": "code",
   "execution_count": 13,
   "id": "4c562429-2cc1-4944-84f8-01bd8b41a4aa",
   "metadata": {},
   "outputs": [
    {
     "name": "stdout",
     "output_type": "stream",
     "text": [
      "\n",
      "====== Guess The Number Game ======\n",
      "\n",
      "I'm thinking of a number between 1 - 10.\n",
      "\n",
      "Try to guess the number.\n",
      "\n",
      "You have 3 attempts!\n",
      "\n"
     ]
    },
    {
     "name": "stdin",
     "output_type": "stream",
     "text": [
      " 8\n"
     ]
    },
    {
     "name": "stdout",
     "output_type": "stream",
     "text": [
      "Oops, too low!!! Guess a higher number. Attempts left = 2\n",
      "\n"
     ]
    },
    {
     "name": "stdin",
     "output_type": "stream",
     "text": [
      " 4\n"
     ]
    },
    {
     "name": "stdout",
     "output_type": "stream",
     "text": [
      "Oops, too low!!! Guess a higher number. Attempts left = 1\n",
      "\n"
     ]
    },
    {
     "name": "stdin",
     "output_type": "stream",
     "text": [
      " 9\n"
     ]
    },
    {
     "name": "stdout",
     "output_type": "stream",
     "text": [
      "Oops, too low!!! Guess a higher number. Attempts left = 0\n",
      "\n",
      "Sorry, Game Over!\n",
      "The Secret Number Is: 10\n",
      "Try Again. Better Luck Next Time\n"
     ]
    }
   ],
   "source": [
    "print(\"\\n====== Guess The Number Game ======\")\n",
    "print(\"\\nI'm thinking of a number between 1 - 10.\")\n",
    "print(\"\\nTry to guess the number.\")\n",
    "print(\"\\nYou have 3 attempts!\")\n",
    "\n",
    "secret_number = random.randint(1, 10)\n",
    "\n",
    "for attempt in range(1, 4):\n",
    "\n",
    "    print()\n",
    "    guess = int(input())\n",
    "\n",
    "    if guess == secret_number:\n",
    "        print(\"Congratulations!!!! You Guessed Right!!!\")\n",
    "        break\n",
    "    elif guess > secret_number:\n",
    "        print(\"Oops, too high!!! Guess a lower number. Attempts left =\", 3 - attempt)\n",
    "    else:\n",
    "        print(\"Oops, too low!!! Guess a higher number. Attempts left =\", 3 - attempt)\n",
    "\n",
    "print(\"\\nSorry, Game Over!\")\n",
    "print(\"The Secret Number Is:\", secret_number)\n",
    "print(\"Try Again. Better Luck Next Time\")"
   ]
  },
  {
   "cell_type": "code",
   "execution_count": null,
   "id": "fc6c1e3c-94c4-41ef-892e-777eb528ca47",
   "metadata": {},
   "outputs": [],
   "source": []
  },
  {
   "cell_type": "markdown",
   "id": "3320ed3e-dcd4-4dfb-8804-867fcc59ed0c",
   "metadata": {},
   "source": [
    "## Let The Games Begin V-1.7"
   ]
  },
  {
   "cell_type": "code",
   "execution_count": 6,
   "id": "31bd076e-a0e9-4544-a9e5-44126ab332b0",
   "metadata": {},
   "outputs": [],
   "source": [
    "import random"
   ]
  },
  {
   "cell_type": "code",
   "execution_count": 7,
   "id": "5aa30a72-514b-4feb-ac15-984889dcc93f",
   "metadata": {},
   "outputs": [],
   "source": [
    "def guess_the_number():\n",
    "    \n",
    "    print(\"\\n====== Guess The Number Game ======\")\n",
    "    print(\"\\nI'm thinking of a number between 1 - 10.\")\n",
    "    print(\"\\nTry to guess the number.\")\n",
    "    print(\"\\nYou have 3 attempts!\")\n",
    "    \n",
    "    secret_number = random.randint(1, 10)\n",
    "    \n",
    "    for attempt in range(1, 4):\n",
    "    \n",
    "        print()\n",
    "        guess = int(input())\n",
    "    \n",
    "        if guess == secret_number:\n",
    "            print(\"Congratulations!!!! You Guessed Right!!!\")\n",
    "            break\n",
    "        elif guess > secret_number:\n",
    "            print(\"Oops, too high!!! Guess a lower number. Attempts left =\", 3 - attempt)\n",
    "        else:\n",
    "            print(\"Oops, too low!!! Guess a higher number. Attempts left =\", 3 - attempt)\n",
    "    \n",
    "    print(\"\\nGame Over!\")\n",
    "    print(\"The Secret Number Is:\", secret_number)\n",
    "    print(\"If You Didn't Find It, Try Again. May The Luck Be With You Next Time.\")"
   ]
  },
  {
   "cell_type": "code",
   "execution_count": 8,
   "id": "be23f0c2-b689-4337-8712-49de4ce8da63",
   "metadata": {},
   "outputs": [
    {
     "name": "stdout",
     "output_type": "stream",
     "text": [
      "\n",
      "====== Guess The Number Game ======\n",
      "\n",
      "I'm thinking of a number between 1 - 10.\n",
      "\n",
      "Try to guess the number.\n",
      "\n",
      "You have 3 attempts!\n",
      "\n"
     ]
    },
    {
     "name": "stdin",
     "output_type": "stream",
     "text": [
      " 7\n"
     ]
    },
    {
     "name": "stdout",
     "output_type": "stream",
     "text": [
      "Oops, too high!!! Guess a lower number. Attempts left = 2\n",
      "\n"
     ]
    },
    {
     "name": "stdin",
     "output_type": "stream",
     "text": [
      " 5\n"
     ]
    },
    {
     "name": "stdout",
     "output_type": "stream",
     "text": [
      "Oops, too high!!! Guess a lower number. Attempts left = 1\n",
      "\n"
     ]
    },
    {
     "name": "stdin",
     "output_type": "stream",
     "text": [
      " 3\n"
     ]
    },
    {
     "name": "stdout",
     "output_type": "stream",
     "text": [
      "Oops, too low!!! Guess a higher number. Attempts left = 0\n",
      "\n",
      "Game Over!\n",
      "The Secret Number Is: 4\n",
      "If You Didn't Find It, Try Again. May The Luck Be With You Next Time.\n"
     ]
    }
   ],
   "source": [
    "guess_the_number()"
   ]
  },
  {
   "cell_type": "code",
   "execution_count": null,
   "id": "f22b72aa-179b-46b6-a028-2de7852c1b1c",
   "metadata": {},
   "outputs": [],
   "source": []
  },
  {
   "cell_type": "code",
   "execution_count": null,
   "id": "2351adff-ff05-443b-b118-d259aae51c51",
   "metadata": {},
   "outputs": [],
   "source": []
  },
  {
   "cell_type": "code",
   "execution_count": null,
   "id": "aa1f6a86-72de-45ed-9c66-8b7721487b12",
   "metadata": {},
   "outputs": [],
   "source": []
  },
  {
   "cell_type": "code",
   "execution_count": null,
   "id": "457be560-4147-4de8-8bea-8af4ee0dfd59",
   "metadata": {},
   "outputs": [],
   "source": []
  },
  {
   "cell_type": "code",
   "execution_count": null,
   "id": "9d1306a3-0eab-45be-91da-966dacd7b3a6",
   "metadata": {},
   "outputs": [],
   "source": []
  },
  {
   "cell_type": "code",
   "execution_count": null,
   "id": "b72ac8d5-930d-4ef7-b219-bc0d4bf283a3",
   "metadata": {},
   "outputs": [],
   "source": []
  },
  {
   "cell_type": "code",
   "execution_count": null,
   "id": "a0d9c1c2-6e8a-4e55-8825-351fc53ce981",
   "metadata": {},
   "outputs": [],
   "source": []
  },
  {
   "cell_type": "code",
   "execution_count": null,
   "id": "48992895-f107-4dd4-bfa6-fd397fe46fe5",
   "metadata": {},
   "outputs": [],
   "source": []
  },
  {
   "cell_type": "code",
   "execution_count": null,
   "id": "e7c92fb0-972c-4d43-a5e3-a844a874b6a9",
   "metadata": {},
   "outputs": [],
   "source": []
  }
 ],
 "metadata": {
  "kernelspec": {
   "display_name": "Python [conda env:base] *",
   "language": "python",
   "name": "conda-base-py"
  },
  "language_info": {
   "codemirror_mode": {
    "name": "ipython",
    "version": 3
   },
   "file_extension": ".py",
   "mimetype": "text/x-python",
   "name": "python",
   "nbconvert_exporter": "python",
   "pygments_lexer": "ipython3",
   "version": "3.12.7"
  }
 },
 "nbformat": 4,
 "nbformat_minor": 5
}
